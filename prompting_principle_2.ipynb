{
 "cells": [
  {
   "attachments": {},
   "cell_type": "markdown",
   "metadata": {},
   "source": [
    "## Principle 2: Give the model time to “think” "
   ]
  },
  {
   "cell_type": "code",
   "execution_count": 86,
   "metadata": {},
   "outputs": [],
   "source": [
    "from dotenv import load_dotenv, find_dotenv\n",
    "\n",
    "import openai\n",
    "import os\n",
    "import json\n",
    "import pprint\n",
    "\n",
    "from dotenv import load_dotenv, find_dotenv\n",
    "\n",
    "_ = load_dotenv(find_dotenv())\n",
    "\n",
    "openai.api_key = str(os.getenv('OPEN_AI_KEY'))\n",
    "\n",
    "def get_completion(prompt, model=\"gpt-3.5-turbo\", temperature=0):\n",
    "    messages = [{\"role\": \"user\", \"content\": prompt}]\n",
    "    response = openai.ChatCompletion.create(\n",
    "        model=model,\n",
    "        messages=messages,\n",
    "        temperature=temperature,  # this is the degree of randomness of the model's output\n",
    "    )\n",
    "    return response.choices[0].message[\"content\"]"
   ]
  },
  {
   "cell_type": "code",
   "execution_count": 87,
   "metadata": {},
   "outputs": [
    {
     "name": "stdout",
     "output_type": "stream",
     "text": [
      "('1) I recommend buying a sofa, armchair, table, lamp, TV, coffee table, and '\n",
      " 'carpet. \\n'\n",
      " '2) The total cost of the purchase would be $1,550, including the interest to '\n",
      " 'pay. \\n'\n",
      " '\\n'\n",
      " 'Breakdown: \\n'\n",
      " '- Sofa: $600 \\n'\n",
      " '- Armchair: $300 \\n'\n",
      " '- Table: $200 \\n'\n",
      " '- Lamp: $50 \\n'\n",
      " '- TV: $200 \\n'\n",
      " '- Coffee table: $100 \\n'\n",
      " '- Carpet: $50 \\n'\n",
      " '- Total cost: $1,500 \\n'\n",
      " '- Interest (15% of $300): $45 \\n'\n",
      " '- Total cost with interest: $1,550')\n"
     ]
    }
   ],
   "source": [
    "prompt = f\"\"\"\n",
    "I'm moving with my partner and need you to recommend me furniture for my living room.\n",
    "The available options are delimited by backticks.\n",
    "\n",
    "Currently I have a budget of 400 and my partner of 600.\n",
    "In addition, we are willing to take at most a 300 debt that we will pay throughout the year at a 15% annual interest.\n",
    "\n",
    "Answer with:\n",
    "1) list of the furniture you recommend me to buy\n",
    "2) total cost of the purchase (including interest to pay).\n",
    "\n",
    "`\n",
    "Sofa: 600\n",
    "armchair: 300\n",
    "table: 200\n",
    "chair: 50\n",
    "lamp: 50\n",
    "tv: 200\n",
    "painting: 50\n",
    "coffee table: 100\n",
    "carpet: 50\n",
    "`\n",
    "\"\"\"\n",
    "\n",
    "response = get_completion(prompt)\n",
    "pprint.pprint(response)"
   ]
  },
  {
   "attachments": {},
   "cell_type": "markdown",
   "metadata": {},
   "source": [
    "#### Tactic 1: Specify the steps required to complete a task"
   ]
  },
  {
   "cell_type": "code",
   "execution_count": 90,
   "metadata": {},
   "outputs": [
    {
     "name": "stdout",
     "output_type": "stream",
     "text": [
      "('1) Total cash available: 400 + 600 = 1000\\n'\n",
      " '2) Total money available to buy furniture: 1000 + 300 = 1300\\n'\n",
      " '3) Based on the total amount of money available, recommended furniture to '\n",
      " 'buy:\\n'\n",
      " '- Sofa: 600\\n'\n",
      " '- Armchair: 300\\n'\n",
      " '- Table: 200\\n'\n",
      " '- TV: 200\\n'\n",
      " '- Coffee table: 100\\n'\n",
      " 'Total cost: 1400\\n'\n",
      " '4) The total cost of the recommended furniture exceeds the available '\n",
      " 'purchasing power.\\n'\n",
      " '5) To adjust to the purchasing power, eliminate the armchair.\\n'\n",
      " 'New recommended furniture:\\n'\n",
      " '- Sofa: 600\\n'\n",
      " '- Table: 200\\n'\n",
      " '- TV: 200\\n'\n",
      " '- Coffee table: 100\\n'\n",
      " 'Total cost: 1100\\n'\n",
      " '6) There is 200 left over, add a chair.\\n'\n",
      " 'Final recommended furniture:\\n'\n",
      " '- Sofa: 600\\n'\n",
      " '- Table: 200\\n'\n",
      " '- TV: 200\\n'\n",
      " '- Coffee table: 100\\n'\n",
      " '- Chair: 50\\n'\n",
      " 'Total cost: 1150\\n'\n",
      " '7) Part of the purchase that will be financed: 1150 - 1000 = 150\\n'\n",
      " '8) Interest to be paid based on the part of the purchase that will be '\n",
      " 'financed:\\n'\n",
      " '150 * 0.15 = 22.5\\n'\n",
      " '9) Total cost of the purchase including interest: 1150 + 22.5 = 1172.5')\n"
     ]
    }
   ],
   "source": [
    "prompt = f\"\"\"\n",
    "\n",
    "I'm moving with my partner and need you to recommend me furniture for my living room.\n",
    "The available options are delimited by backticks.\n",
    "\n",
    "Currently I have a budget of 400 and my partner of 600.\n",
    "In addition, we are willing to take at most a 300 debt that we will pay throughout the year at a 15% annual interest.\n",
    "\n",
    "Perform the following actions:\n",
    "1) Calculate the total amount of cash available.\n",
    "2) Calculate the total amount of money available to buy furniture.\n",
    "3) Based on the total amount of money available, recommend furniture to buy.\n",
    "4) Compare the total cost of the recommended furniture with the available purchasing power.\n",
    "5) Determine if it is possible to buy all the recommended furniture, if it is not, eliminate a piece of furniture to adjust to the purchasing power.\n",
    "6) If there is money left over, add another piece of furniture.\n",
    "7) Calculate the part of the purchase that will be financed\n",
    "8) Determine the interest to be paid based on the part of the purchase that will took as debt (as little as it is possible).\n",
    "9) Calculate the total cost of the purchase including interest.\n",
    "\n",
    "`\n",
    "Sofa: 600\n",
    "armchair: 300\n",
    "table: 200\n",
    "chair: 50\n",
    "lamp: 50\n",
    "tv: 200\n",
    "painting: 50\n",
    "coffee table: 100\n",
    "carpet: 50\n",
    "`\n",
    "\"\"\"\n",
    "\n",
    "response = get_completion(prompt)\n",
    "pprint.pprint(response)"
   ]
  }
 ],
 "metadata": {
  "kernelspec": {
   "display_name": ".venv",
   "language": "python",
   "name": "python3"
  },
  "language_info": {
   "codemirror_mode": {
    "name": "ipython",
    "version": 3
   },
   "file_extension": ".py",
   "mimetype": "text/x-python",
   "name": "python",
   "nbconvert_exporter": "python",
   "pygments_lexer": "ipython3",
   "version": "3.8.15"
  },
  "orig_nbformat": 4
 },
 "nbformat": 4,
 "nbformat_minor": 2
}
